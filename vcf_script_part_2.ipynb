{
 "cells": [
  {
   "cell_type": "code",
   "execution_count": 1,
   "metadata": {},
   "outputs": [
    {
     "name": "stdout",
     "output_type": "stream",
     "text": [
      "CPU times: user 272 ms, sys: 126 ms, total: 398 ms\n",
      "Wall time: 732 ms\n"
     ]
    }
   ],
   "source": [
    "import pandas as pd"
   ]
  },
  {
   "cell_type": "code",
   "execution_count": 2,
   "metadata": {},
   "outputs": [
    {
     "name": "stdout",
     "output_type": "stream",
     "text": [
      "CPU times: user 4 µs, sys: 1 µs, total: 5 µs\n",
      "Wall time: 5.96 µs\n"
     ]
    }
   ],
   "source": [
    "import numpy as np"
   ]
  },
  {
   "cell_type": "code",
   "execution_count": 11,
   "metadata": {},
   "outputs": [],
   "source": [
    "import os"
   ]
  },
  {
   "cell_type": "code",
   "execution_count": 4,
   "metadata": {},
   "outputs": [
    {
     "name": "stdout",
     "output_type": "stream",
     "text": [
      "CPU times: user 58.8 ms, sys: 5.81 ms, total: 64.6 ms\n",
      "Wall time: 71.1 ms\n"
     ]
    }
   ],
   "source": [
    "\n",
    "df = pd.read_excel(\"2020_05_05_CAD_PRS_267-converted copy.xlsx\")"
   ]
  },
  {
   "cell_type": "code",
   "execution_count": 5,
   "metadata": {},
   "outputs": [
    {
     "name": "stdout",
     "output_type": "stream",
     "text": [
      "CPU times: user 259 µs, sys: 29 µs, total: 288 µs\n",
      "Wall time: 280 µs\n"
     ]
    },
    {
     "data": {
      "text/html": [
       "<div>\n",
       "<style scoped>\n",
       "    .dataframe tbody tr th:only-of-type {\n",
       "        vertical-align: middle;\n",
       "    }\n",
       "\n",
       "    .dataframe tbody tr th {\n",
       "        vertical-align: top;\n",
       "    }\n",
       "\n",
       "    .dataframe thead th {\n",
       "        text-align: right;\n",
       "    }\n",
       "</style>\n",
       "<table border=\"1\" class=\"dataframe\">\n",
       "  <thead>\n",
       "    <tr style=\"text-align: right;\">\n",
       "      <th></th>\n",
       "      <th>rsID</th>\n",
       "      <th>Position</th>\n",
       "      <th>Effect\\nAllele</th>\n",
       "      <th>P-value</th>\n",
       "      <th>Gene</th>\n",
       "      <th>Weight</th>\n",
       "      <th>r2</th>\n",
       "      <th>Genotyping</th>\n",
       "      <th>LD</th>\n",
       "    </tr>\n",
       "  </thead>\n",
       "  <tbody>\n",
       "    <tr>\n",
       "      <th>0</th>\n",
       "      <td>rs2843152</td>\n",
       "      <td>1:2245570</td>\n",
       "      <td>C</td>\n",
       "      <td>0.000013</td>\n",
       "      <td>SKI</td>\n",
       "      <td>0.04240</td>\n",
       "      <td>0.78639</td>\n",
       "      <td>Imputed</td>\n",
       "      <td>NaN</td>\n",
       "    </tr>\n",
       "    <tr>\n",
       "      <th>1</th>\n",
       "      <td>rs35465346</td>\n",
       "      <td>1:22132518</td>\n",
       "      <td>G</td>\n",
       "      <td>0.000009</td>\n",
       "      <td>LDLRAD2</td>\n",
       "      <td>0.05465</td>\n",
       "      <td>0.84007</td>\n",
       "      <td>Imputed</td>\n",
       "      <td>NaN</td>\n",
       "    </tr>\n",
       "    <tr>\n",
       "      <th>2</th>\n",
       "      <td>rs7538207</td>\n",
       "      <td>1:22310674</td>\n",
       "      <td>C</td>\n",
       "      <td>0.000010</td>\n",
       "      <td>CELA3B</td>\n",
       "      <td>0.09848</td>\n",
       "      <td>0.84791</td>\n",
       "      <td>Imputed</td>\n",
       "      <td>NaN</td>\n",
       "    </tr>\n",
       "    <tr>\n",
       "      <th>3</th>\n",
       "      <td>rs11811081</td>\n",
       "      <td>1:32026584</td>\n",
       "      <td>C</td>\n",
       "      <td>0.000061</td>\n",
       "      <td>TINAGL1</td>\n",
       "      <td>0.07660</td>\n",
       "      <td>0.7599</td>\n",
       "      <td>Imputed</td>\n",
       "      <td>NaN</td>\n",
       "    </tr>\n",
       "    <tr>\n",
       "      <th>4</th>\n",
       "      <td>rs12733730</td>\n",
       "      <td>1:37023446</td>\n",
       "      <td>A</td>\n",
       "      <td>0.000011</td>\n",
       "      <td>CSF3R</td>\n",
       "      <td>0.04601</td>\n",
       "      <td>0.7836</td>\n",
       "      <td>Imputed</td>\n",
       "      <td>NaN</td>\n",
       "    </tr>\n",
       "  </tbody>\n",
       "</table>\n",
       "</div>"
      ],
      "text/plain": [
       "         rsID    Position Effect\\nAllele   P-value     Gene   Weight       r2  \\\n",
       "0   rs2843152   1:2245570              C  0.000013      SKI  0.04240  0.78639   \n",
       "1  rs35465346  1:22132518              G  0.000009  LDLRAD2  0.05465  0.84007   \n",
       "2   rs7538207  1:22310674              C  0.000010   CELA3B  0.09848  0.84791   \n",
       "3  rs11811081  1:32026584              C  0.000061  TINAGL1  0.07660   0.7599   \n",
       "4  rs12733730  1:37023446              A  0.000011    CSF3R  0.04601   0.7836   \n",
       "\n",
       "  Genotyping  LD  \n",
       "0    Imputed NaN  \n",
       "1    Imputed NaN  \n",
       "2    Imputed NaN  \n",
       "3    Imputed NaN  \n",
       "4    Imputed NaN  "
      ]
     },
     "execution_count": 5,
     "metadata": {},
     "output_type": "execute_result"
    }
   ],
   "source": [
    "\n",
    "df.head()"
   ]
  },
  {
   "cell_type": "code",
   "execution_count": 6,
   "metadata": {},
   "outputs": [
    {
     "name": "stdout",
     "output_type": "stream",
     "text": [
      "CPU times: user 1.17 ms, sys: 109 µs, total: 1.27 ms\n",
      "Wall time: 1.28 ms\n"
     ]
    }
   ],
   "source": [
    "\n",
    "df.drop([\"P-value\", \"Gene\", \"r2\", \"Genotyping\",\"LD\"], axis = 1, inplace = True)"
   ]
  },
  {
   "cell_type": "code",
   "execution_count": 7,
   "metadata": {},
   "outputs": [
    {
     "name": "stdout",
     "output_type": "stream",
     "text": [
      "CPU times: user 3.69 ms, sys: 249 µs, total: 3.94 ms\n",
      "Wall time: 3.83 ms\n"
     ]
    }
   ],
   "source": [
    "\n",
    "df[\"Chromosome\"] = df[\"Position\"].str.split(\":\").str[0]\n",
    "df[\"PositionNum\"] = df[\"Position\"].str.split(\":\").str[-1]"
   ]
  },
  {
   "cell_type": "code",
   "execution_count": 8,
   "metadata": {},
   "outputs": [
    {
     "name": "stdout",
     "output_type": "stream",
     "text": [
      "CPU times: user 1.09 ms, sys: 102 µs, total: 1.19 ms\n",
      "Wall time: 1.12 ms\n"
     ]
    }
   ],
   "source": [
    "\n",
    "df = df.rename(columns= {\"Effect\\nAllele\": \"EffectAllele\"})"
   ]
  },
  {
   "cell_type": "code",
   "execution_count": 9,
   "metadata": {},
   "outputs": [
    {
     "name": "stdout",
     "output_type": "stream",
     "text": [
      "CPU times: user 221 ms, sys: 68.8 ms, total: 290 ms\n",
      "Wall time: 426 ms\n"
     ]
    }
   ],
   "source": [
    "\n",
    "import allel"
   ]
  },
  {
   "cell_type": "code",
   "execution_count": 9,
   "metadata": {},
   "outputs": [
    {
     "name": "stdout",
     "output_type": "stream",
     "text": [
      "CPU times: user 2min 22s, sys: 38 s, total: 3min\n",
      "Wall time: 3min 13s\n"
     ]
    }
   ],
   "source": [
    "\n",
    "callset = allel.read_vcf('220d9976-ebed-4ea1-8c09-46723ddac703.vcf.gz')"
   ]
  },
  {
   "cell_type": "code",
   "execution_count": 10,
   "metadata": {},
   "outputs": [
    {
     "name": "stdout",
     "output_type": "stream",
     "text": [
      "CPU times: user 7 µs, sys: 7 µs, total: 14 µs\n",
      "Wall time: 16.7 µs\n"
     ]
    },
    {
     "data": {
      "text/plain": [
       "['calldata/GT',\n",
       " 'samples',\n",
       " 'variants/ALT',\n",
       " 'variants/CHROM',\n",
       " 'variants/FILTER_PASS',\n",
       " 'variants/ID',\n",
       " 'variants/POS',\n",
       " 'variants/QUAL',\n",
       " 'variants/REF']"
      ]
     },
     "execution_count": 10,
     "metadata": {},
     "output_type": "execute_result"
    }
   ],
   "source": [
    "\n",
    "sorted(callset.keys())"
   ]
  },
  {
   "cell_type": "code",
   "execution_count": 11,
   "metadata": {},
   "outputs": [
    {
     "name": "stdout",
     "output_type": "stream",
     "text": [
      "CPU times: user 3 µs, sys: 1e+03 ns, total: 4 µs\n",
      "Wall time: 5.01 µs\n"
     ]
    }
   ],
   "source": [
    "\n",
    "genotype = callset['calldata/GT']"
   ]
  },
  {
   "cell_type": "code",
   "execution_count": 12,
   "metadata": {},
   "outputs": [
    {
     "name": "stdout",
     "output_type": "stream",
     "text": [
      "CPU times: user 13 µs, sys: 69 µs, total: 82 µs\n",
      "Wall time: 253 µs\n"
     ]
    }
   ],
   "source": [
    "\n",
    "array = genotype.squeeze()"
   ]
  },
  {
   "cell_type": "code",
   "execution_count": 13,
   "metadata": {},
   "outputs": [
    {
     "name": "stdout",
     "output_type": "stream",
     "text": [
      "CPU times: user 2min 5s, sys: 1min 9s, total: 3min 15s\n",
      "Wall time: 3min 45s\n"
     ]
    }
   ],
   "source": [
    "\n",
    "VCFdf= pd.DataFrame.from_records(array)"
   ]
  },
  {
   "cell_type": "code",
   "execution_count": 14,
   "metadata": {},
   "outputs": [
    {
     "name": "stdout",
     "output_type": "stream",
     "text": [
      "CPU times: user 1min 41s, sys: 55.6 s, total: 2min 37s\n",
      "Wall time: 2min 57s\n"
     ]
    }
   ],
   "source": [
    "\n",
    "VCFdf[\"Genotype\"] = VCFdf[0].astype(str) + \"/\" + VCFdf[1].astype(str)"
   ]
  },
  {
   "cell_type": "code",
   "execution_count": 15,
   "metadata": {},
   "outputs": [
    {
     "name": "stdout",
     "output_type": "stream",
     "text": [
      "CPU times: user 265 ms, sys: 644 ms, total: 908 ms\n",
      "Wall time: 1.32 s\n"
     ]
    }
   ],
   "source": [
    "\n",
    "del VCFdf[1]\n",
    "del VCFdf[0]"
   ]
  },
  {
   "cell_type": "code",
   "execution_count": 16,
   "metadata": {},
   "outputs": [
    {
     "name": "stdout",
     "output_type": "stream",
     "text": [
      "CPU times: user 5.79 s, sys: 26.4 s, total: 32.2 s\n",
      "Wall time: 44.1 s\n"
     ]
    }
   ],
   "source": [
    "\n",
    "VCFdf[\"VCFChrom\"] = callset['variants/CHROM']\n",
    "VCFdf[\"VCFPos\"] = callset['variants/POS']\n",
    "VCFdf[\"VCFid\"] = callset['variants/ID']\n",
    "VCFdf[\"VCFRef\"] = callset['variants/REF']\n",
    "VCFdf[\"VCFAlt\"] = callset['variants/ALT'][:,0]"
   ]
  },
  {
   "cell_type": "code",
   "execution_count": 17,
   "metadata": {},
   "outputs": [
    {
     "name": "stdout",
     "output_type": "stream",
     "text": [
      "CPU times: user 1.02 ms, sys: 7.26 ms, total: 8.28 ms\n",
      "Wall time: 27.1 ms\n"
     ]
    },
    {
     "data": {
      "text/plain": [
       "Genotype    object\n",
       "VCFChrom    object\n",
       "VCFPos       int32\n",
       "VCFid       object\n",
       "VCFRef      object\n",
       "VCFAlt      object\n",
       "dtype: object"
      ]
     },
     "execution_count": 17,
     "metadata": {},
     "output_type": "execute_result"
    }
   ],
   "source": [
    "\n",
    "VCFdf.dtypes"
   ]
  },
  {
   "cell_type": "code",
   "execution_count": 18,
   "metadata": {},
   "outputs": [
    {
     "name": "stdout",
     "output_type": "stream",
     "text": [
      "CPU times: user 482 µs, sys: 418 µs, total: 900 µs\n",
      "Wall time: 1.23 ms\n"
     ]
    },
    {
     "data": {
      "text/plain": [
       "rsID             object\n",
       "Position         object\n",
       "EffectAllele     object\n",
       "Weight          float64\n",
       "Chromosome       object\n",
       "PositionNum      object\n",
       "dtype: object"
      ]
     },
     "execution_count": 18,
     "metadata": {},
     "output_type": "execute_result"
    }
   ],
   "source": [
    "\n",
    "df.dtypes"
   ]
  },
  {
   "cell_type": "code",
   "execution_count": 19,
   "metadata": {},
   "outputs": [
    {
     "name": "stdout",
     "output_type": "stream",
     "text": [
      "CPU times: user 1min 10s, sys: 3min 35s, total: 4min 45s\n",
      "Wall time: 12min 1s\n"
     ]
    },
    {
     "data": {
      "text/plain": [
       "Genotype    object\n",
       "VCFChrom    object\n",
       "VCFPos      object\n",
       "VCFid       object\n",
       "VCFRef      object\n",
       "VCFAlt      object\n",
       "dtype: object"
      ]
     },
     "execution_count": 19,
     "metadata": {},
     "output_type": "execute_result"
    }
   ],
   "source": [
    "\n",
    "NewVCFdf = VCFdf.copy()\n",
    "\n",
    "NewVCFdf['VCFChrom'] = NewVCFdf.VCFChrom.apply(str)\n",
    "NewVCFdf['VCFPos'] = NewVCFdf.VCFPos.apply(str)\n",
    "NewVCFdf.dtypes"
   ]
  },
  {
   "cell_type": "code",
   "execution_count": 20,
   "metadata": {},
   "outputs": [
    {
     "name": "stdout",
     "output_type": "stream",
     "text": [
      "CPU times: user 2 µs, sys: 0 ns, total: 2 µs\n",
      "Wall time: 5.25 µs\n"
     ]
    },
    {
     "data": {
      "text/html": [
       "<div>\n",
       "<style scoped>\n",
       "    .dataframe tbody tr th:only-of-type {\n",
       "        vertical-align: middle;\n",
       "    }\n",
       "\n",
       "    .dataframe tbody tr th {\n",
       "        vertical-align: top;\n",
       "    }\n",
       "\n",
       "    .dataframe thead th {\n",
       "        text-align: right;\n",
       "    }\n",
       "</style>\n",
       "<table border=\"1\" class=\"dataframe\">\n",
       "  <thead>\n",
       "    <tr style=\"text-align: right;\">\n",
       "      <th></th>\n",
       "      <th>Genotype</th>\n",
       "      <th>VCFChrom</th>\n",
       "      <th>VCFPos</th>\n",
       "      <th>VCFid</th>\n",
       "      <th>VCFRef</th>\n",
       "      <th>VCFAlt</th>\n",
       "    </tr>\n",
       "  </thead>\n",
       "  <tbody>\n",
       "    <tr>\n",
       "      <th>0</th>\n",
       "      <td>0/1</td>\n",
       "      <td>1</td>\n",
       "      <td>10177</td>\n",
       "      <td>rs367896724</td>\n",
       "      <td>A</td>\n",
       "      <td>AC</td>\n",
       "    </tr>\n",
       "    <tr>\n",
       "      <th>1</th>\n",
       "      <td>0/0</td>\n",
       "      <td>1</td>\n",
       "      <td>10235</td>\n",
       "      <td>rs540431307</td>\n",
       "      <td>T</td>\n",
       "      <td>TA</td>\n",
       "    </tr>\n",
       "    <tr>\n",
       "      <th>2</th>\n",
       "      <td>1/1</td>\n",
       "      <td>1</td>\n",
       "      <td>10352</td>\n",
       "      <td>rs555500075</td>\n",
       "      <td>T</td>\n",
       "      <td>TA</td>\n",
       "    </tr>\n",
       "    <tr>\n",
       "      <th>3</th>\n",
       "      <td>0/0</td>\n",
       "      <td>1</td>\n",
       "      <td>10505</td>\n",
       "      <td>rs548419688</td>\n",
       "      <td>A</td>\n",
       "      <td>T</td>\n",
       "    </tr>\n",
       "    <tr>\n",
       "      <th>4</th>\n",
       "      <td>0/0</td>\n",
       "      <td>1</td>\n",
       "      <td>10506</td>\n",
       "      <td>rs568405545</td>\n",
       "      <td>C</td>\n",
       "      <td>G</td>\n",
       "    </tr>\n",
       "    <tr>\n",
       "      <th>...</th>\n",
       "      <td>...</td>\n",
       "      <td>...</td>\n",
       "      <td>...</td>\n",
       "      <td>...</td>\n",
       "      <td>...</td>\n",
       "      <td>...</td>\n",
       "    </tr>\n",
       "    <tr>\n",
       "      <th>85184605</th>\n",
       "      <td>0/0</td>\n",
       "      <td>X</td>\n",
       "      <td>155260005</td>\n",
       "      <td>.</td>\n",
       "      <td>G</td>\n",
       "      <td>GGT</td>\n",
       "    </tr>\n",
       "    <tr>\n",
       "      <th>85184606</th>\n",
       "      <td>1/1</td>\n",
       "      <td>X</td>\n",
       "      <td>155260016</td>\n",
       "      <td>.</td>\n",
       "      <td>G</td>\n",
       "      <td>GTT</td>\n",
       "    </tr>\n",
       "    <tr>\n",
       "      <th>85184607</th>\n",
       "      <td>1/1</td>\n",
       "      <td>X</td>\n",
       "      <td>155260465</td>\n",
       "      <td>.</td>\n",
       "      <td>TG</td>\n",
       "      <td>T</td>\n",
       "    </tr>\n",
       "    <tr>\n",
       "      <th>85184608</th>\n",
       "      <td>1/1</td>\n",
       "      <td>X</td>\n",
       "      <td>155260472</td>\n",
       "      <td>.</td>\n",
       "      <td>TG</td>\n",
       "      <td>T</td>\n",
       "    </tr>\n",
       "    <tr>\n",
       "      <th>85184609</th>\n",
       "      <td>1/1</td>\n",
       "      <td>X</td>\n",
       "      <td>155260478</td>\n",
       "      <td>.</td>\n",
       "      <td>T</td>\n",
       "      <td>TTA</td>\n",
       "    </tr>\n",
       "  </tbody>\n",
       "</table>\n",
       "<p>85184610 rows × 6 columns</p>\n",
       "</div>"
      ],
      "text/plain": [
       "         Genotype VCFChrom     VCFPos        VCFid VCFRef VCFAlt\n",
       "0             0/1        1      10177  rs367896724      A     AC\n",
       "1             0/0        1      10235  rs540431307      T     TA\n",
       "2             1/1        1      10352  rs555500075      T     TA\n",
       "3             0/0        1      10505  rs548419688      A      T\n",
       "4             0/0        1      10506  rs568405545      C      G\n",
       "...           ...      ...        ...          ...    ...    ...\n",
       "85184605      0/0        X  155260005            .      G    GGT\n",
       "85184606      1/1        X  155260016            .      G    GTT\n",
       "85184607      1/1        X  155260465            .     TG      T\n",
       "85184608      1/1        X  155260472            .     TG      T\n",
       "85184609      1/1        X  155260478            .      T    TTA\n",
       "\n",
       "[85184610 rows x 6 columns]"
      ]
     },
     "execution_count": 20,
     "metadata": {},
     "output_type": "execute_result"
    }
   ],
   "source": [
    "\n",
    "NewVCFdf"
   ]
  },
  {
   "cell_type": "code",
   "execution_count": 21,
   "metadata": {},
   "outputs": [
    {
     "name": "stdout",
     "output_type": "stream",
     "text": [
      "CPU times: user 1.23 ms, sys: 2 ms, total: 3.23 ms\n",
      "Wall time: 5.2 ms\n"
     ]
    }
   ],
   "source": [
    "\n",
    "df['Chromosome'] = df.Chromosome.apply(str)\n",
    "df['PositionNum'] = df.PositionNum.apply(str)"
   ]
  },
  {
   "cell_type": "code",
   "execution_count": 22,
   "metadata": {},
   "outputs": [
    {
     "name": "stdout",
     "output_type": "stream",
     "text": [
      "CPU times: user 202 µs, sys: 27 µs, total: 229 µs\n",
      "Wall time: 233 µs\n"
     ]
    },
    {
     "data": {
      "text/plain": [
       "rsID             object\n",
       "Position         object\n",
       "EffectAllele     object\n",
       "Weight          float64\n",
       "Chromosome       object\n",
       "PositionNum      object\n",
       "dtype: object"
      ]
     },
     "execution_count": 22,
     "metadata": {},
     "output_type": "execute_result"
    }
   ],
   "source": [
    "\n",
    "df.dtypes"
   ]
  },
  {
   "cell_type": "code",
   "execution_count": 23,
   "metadata": {},
   "outputs": [
    {
     "name": "stdout",
     "output_type": "stream",
     "text": [
      "CPU times: user 2min 12s, sys: 3min 31s, total: 5min 44s\n",
      "Wall time: 8min 11s\n"
     ]
    }
   ],
   "source": [
    "\n",
    "new_df = df.merge(NewVCFdf, left_on=['Chromosome', 'PositionNum'], right_on=['VCFChrom', 'VCFPos'], how='inner')"
   ]
  },
  {
   "cell_type": "code",
   "execution_count": 24,
   "metadata": {},
   "outputs": [
    {
     "name": "stdout",
     "output_type": "stream",
     "text": [
      "CPU times: user 2 µs, sys: 1e+03 ns, total: 3 µs\n",
      "Wall time: 5.01 µs\n"
     ]
    },
    {
     "data": {
      "text/html": [
       "<div>\n",
       "<style scoped>\n",
       "    .dataframe tbody tr th:only-of-type {\n",
       "        vertical-align: middle;\n",
       "    }\n",
       "\n",
       "    .dataframe tbody tr th {\n",
       "        vertical-align: top;\n",
       "    }\n",
       "\n",
       "    .dataframe thead th {\n",
       "        text-align: right;\n",
       "    }\n",
       "</style>\n",
       "<table border=\"1\" class=\"dataframe\">\n",
       "  <thead>\n",
       "    <tr style=\"text-align: right;\">\n",
       "      <th></th>\n",
       "      <th>rsID</th>\n",
       "      <th>Position</th>\n",
       "      <th>EffectAllele</th>\n",
       "      <th>Weight</th>\n",
       "      <th>Chromosome</th>\n",
       "      <th>PositionNum</th>\n",
       "      <th>Genotype</th>\n",
       "      <th>VCFChrom</th>\n",
       "      <th>VCFPos</th>\n",
       "      <th>VCFid</th>\n",
       "      <th>VCFRef</th>\n",
       "      <th>VCFAlt</th>\n",
       "    </tr>\n",
       "  </thead>\n",
       "  <tbody>\n",
       "    <tr>\n",
       "      <th>0</th>\n",
       "      <td>rs2843152</td>\n",
       "      <td>1:2245570</td>\n",
       "      <td>C</td>\n",
       "      <td>0.04240</td>\n",
       "      <td>1</td>\n",
       "      <td>2245570</td>\n",
       "      <td>1/1</td>\n",
       "      <td>1</td>\n",
       "      <td>2245570</td>\n",
       "      <td>rs2843152</td>\n",
       "      <td>C</td>\n",
       "      <td>G</td>\n",
       "    </tr>\n",
       "    <tr>\n",
       "      <th>1</th>\n",
       "      <td>rs35465346</td>\n",
       "      <td>1:22132518</td>\n",
       "      <td>G</td>\n",
       "      <td>0.05465</td>\n",
       "      <td>1</td>\n",
       "      <td>22132518</td>\n",
       "      <td>0/0</td>\n",
       "      <td>1</td>\n",
       "      <td>22132518</td>\n",
       "      <td>rs35465346</td>\n",
       "      <td>G</td>\n",
       "      <td>A</td>\n",
       "    </tr>\n",
       "    <tr>\n",
       "      <th>2</th>\n",
       "      <td>rs7538207</td>\n",
       "      <td>1:22310674</td>\n",
       "      <td>C</td>\n",
       "      <td>0.09848</td>\n",
       "      <td>1</td>\n",
       "      <td>22310674</td>\n",
       "      <td>1/1</td>\n",
       "      <td>1</td>\n",
       "      <td>22310674</td>\n",
       "      <td>rs7538207</td>\n",
       "      <td>C</td>\n",
       "      <td>T</td>\n",
       "    </tr>\n",
       "    <tr>\n",
       "      <th>3</th>\n",
       "      <td>rs11811081</td>\n",
       "      <td>1:32026584</td>\n",
       "      <td>C</td>\n",
       "      <td>0.07660</td>\n",
       "      <td>1</td>\n",
       "      <td>32026584</td>\n",
       "      <td>0/0</td>\n",
       "      <td>1</td>\n",
       "      <td>32026584</td>\n",
       "      <td>rs11811081</td>\n",
       "      <td>C</td>\n",
       "      <td>A</td>\n",
       "    </tr>\n",
       "    <tr>\n",
       "      <th>4</th>\n",
       "      <td>rs12733730</td>\n",
       "      <td>1:37023446</td>\n",
       "      <td>A</td>\n",
       "      <td>0.04601</td>\n",
       "      <td>1</td>\n",
       "      <td>37023446</td>\n",
       "      <td>0/0</td>\n",
       "      <td>1</td>\n",
       "      <td>37023446</td>\n",
       "      <td>rs12733730</td>\n",
       "      <td>G</td>\n",
       "      <td>A</td>\n",
       "    </tr>\n",
       "    <tr>\n",
       "      <th>...</th>\n",
       "      <td>...</td>\n",
       "      <td>...</td>\n",
       "      <td>...</td>\n",
       "      <td>...</td>\n",
       "      <td>...</td>\n",
       "      <td>...</td>\n",
       "      <td>...</td>\n",
       "      <td>...</td>\n",
       "      <td>...</td>\n",
       "      <td>...</td>\n",
       "      <td>...</td>\n",
       "      <td>...</td>\n",
       "    </tr>\n",
       "    <tr>\n",
       "      <th>262</th>\n",
       "      <td>rs2836621</td>\n",
       "      <td>21:40054149</td>\n",
       "      <td>T</td>\n",
       "      <td>0.03312</td>\n",
       "      <td>21</td>\n",
       "      <td>40054149</td>\n",
       "      <td>0/0</td>\n",
       "      <td>21</td>\n",
       "      <td>40054149</td>\n",
       "      <td>rs2836621</td>\n",
       "      <td>C</td>\n",
       "      <td>T</td>\n",
       "    </tr>\n",
       "    <tr>\n",
       "      <th>263</th>\n",
       "      <td>rs9604969</td>\n",
       "      <td>22:19514013</td>\n",
       "      <td>A</td>\n",
       "      <td>0.06006</td>\n",
       "      <td>22</td>\n",
       "      <td>19514013</td>\n",
       "      <td>0/0</td>\n",
       "      <td>22</td>\n",
       "      <td>19514013</td>\n",
       "      <td>rs9604969</td>\n",
       "      <td>A</td>\n",
       "      <td>G</td>\n",
       "    </tr>\n",
       "    <tr>\n",
       "      <th>264</th>\n",
       "      <td>rs71313931</td>\n",
       "      <td>22:19960184</td>\n",
       "      <td>G</td>\n",
       "      <td>0.03938</td>\n",
       "      <td>22</td>\n",
       "      <td>19960184</td>\n",
       "      <td>0/1</td>\n",
       "      <td>22</td>\n",
       "      <td>19960184</td>\n",
       "      <td>rs71313931</td>\n",
       "      <td>C</td>\n",
       "      <td>G</td>\n",
       "    </tr>\n",
       "    <tr>\n",
       "      <th>265</th>\n",
       "      <td>rs12485143</td>\n",
       "      <td>22:24575333</td>\n",
       "      <td>C</td>\n",
       "      <td>0.06735</td>\n",
       "      <td>22</td>\n",
       "      <td>24575333</td>\n",
       "      <td>0/0</td>\n",
       "      <td>22</td>\n",
       "      <td>24575333</td>\n",
       "      <td>rs12485143</td>\n",
       "      <td>C</td>\n",
       "      <td>T</td>\n",
       "    </tr>\n",
       "    <tr>\n",
       "      <th>266</th>\n",
       "      <td>rs468224</td>\n",
       "      <td>22:29955252</td>\n",
       "      <td>A</td>\n",
       "      <td>0.04269</td>\n",
       "      <td>22</td>\n",
       "      <td>29955252</td>\n",
       "      <td>0/1</td>\n",
       "      <td>22</td>\n",
       "      <td>29955252</td>\n",
       "      <td>rs468224</td>\n",
       "      <td>A</td>\n",
       "      <td>G</td>\n",
       "    </tr>\n",
       "  </tbody>\n",
       "</table>\n",
       "<p>267 rows × 12 columns</p>\n",
       "</div>"
      ],
      "text/plain": [
       "           rsID     Position EffectAllele   Weight Chromosome PositionNum  \\\n",
       "0     rs2843152    1:2245570            C  0.04240          1     2245570   \n",
       "1    rs35465346   1:22132518            G  0.05465          1    22132518   \n",
       "2     rs7538207   1:22310674            C  0.09848          1    22310674   \n",
       "3    rs11811081   1:32026584            C  0.07660          1    32026584   \n",
       "4    rs12733730   1:37023446            A  0.04601          1    37023446   \n",
       "..          ...          ...          ...      ...        ...         ...   \n",
       "262   rs2836621  21:40054149            T  0.03312         21    40054149   \n",
       "263   rs9604969  22:19514013            A  0.06006         22    19514013   \n",
       "264  rs71313931  22:19960184            G  0.03938         22    19960184   \n",
       "265  rs12485143  22:24575333            C  0.06735         22    24575333   \n",
       "266    rs468224  22:29955252            A  0.04269         22    29955252   \n",
       "\n",
       "    Genotype VCFChrom    VCFPos       VCFid VCFRef VCFAlt  \n",
       "0        1/1        1   2245570   rs2843152      C      G  \n",
       "1        0/0        1  22132518  rs35465346      G      A  \n",
       "2        1/1        1  22310674   rs7538207      C      T  \n",
       "3        0/0        1  32026584  rs11811081      C      A  \n",
       "4        0/0        1  37023446  rs12733730      G      A  \n",
       "..       ...      ...       ...         ...    ...    ...  \n",
       "262      0/0       21  40054149   rs2836621      C      T  \n",
       "263      0/0       22  19514013   rs9604969      A      G  \n",
       "264      0/1       22  19960184  rs71313931      C      G  \n",
       "265      0/0       22  24575333  rs12485143      C      T  \n",
       "266      0/1       22  29955252    rs468224      A      G  \n",
       "\n",
       "[267 rows x 12 columns]"
      ]
     },
     "execution_count": 24,
     "metadata": {},
     "output_type": "execute_result"
    }
   ],
   "source": [
    "\n",
    "new_df"
   ]
  },
  {
   "cell_type": "code",
   "execution_count": 25,
   "metadata": {},
   "outputs": [
    {
     "name": "stdout",
     "output_type": "stream",
     "text": [
      "267\n",
      "CPU times: user 36.7 ms, sys: 4.31 ms, total: 41 ms\n",
      "Wall time: 44.8 ms\n"
     ]
    }
   ],
   "source": [
    "\n",
    "score = []\n",
    "for index, row in new_df.iterrows():\n",
    "    if row[\"Genotype\"] == \"1/1\" and row[\"VCFRef\"] == row[\"EffectAllele\"]:\n",
    "        score.append(0)\n",
    "    elif row[\"Genotype\"] == \"1/1\" and row[\"VCFAlt\"] == row[\"EffectAllele\"]:\n",
    "        score.append(2)\n",
    "    elif row[\"Genotype\"] == \"0/0\" and row[\"VCFRef\"] == row[\"EffectAllele\"]:\n",
    "        score.append(2)\n",
    "    elif row[\"Genotype\"] == \"0/0\" and row[\"VCFAlt\"] == row[\"EffectAllele\"]:\n",
    "        score.append(0)\n",
    "    else:\n",
    "        score.append(1)\n",
    "\n",
    "print(len(score))"
   ]
  },
  {
   "cell_type": "code",
   "execution_count": 26,
   "metadata": {},
   "outputs": [
    {
     "name": "stdout",
     "output_type": "stream",
     "text": [
      "CPU times: user 1.03 ms, sys: 1.82 ms, total: 2.85 ms\n",
      "Wall time: 4.56 ms\n"
     ]
    },
    {
     "data": {
      "text/html": [
       "<div>\n",
       "<style scoped>\n",
       "    .dataframe tbody tr th:only-of-type {\n",
       "        vertical-align: middle;\n",
       "    }\n",
       "\n",
       "    .dataframe tbody tr th {\n",
       "        vertical-align: top;\n",
       "    }\n",
       "\n",
       "    .dataframe thead th {\n",
       "        text-align: right;\n",
       "    }\n",
       "</style>\n",
       "<table border=\"1\" class=\"dataframe\">\n",
       "  <thead>\n",
       "    <tr style=\"text-align: right;\">\n",
       "      <th></th>\n",
       "      <th>rsID</th>\n",
       "      <th>Position</th>\n",
       "      <th>EffectAllele</th>\n",
       "      <th>Weight</th>\n",
       "      <th>Chromosome</th>\n",
       "      <th>PositionNum</th>\n",
       "      <th>Genotype</th>\n",
       "      <th>VCFChrom</th>\n",
       "      <th>VCFPos</th>\n",
       "      <th>VCFid</th>\n",
       "      <th>VCFRef</th>\n",
       "      <th>VCFAlt</th>\n",
       "      <th>Score</th>\n",
       "    </tr>\n",
       "  </thead>\n",
       "  <tbody>\n",
       "    <tr>\n",
       "      <th>0</th>\n",
       "      <td>rs2843152</td>\n",
       "      <td>1:2245570</td>\n",
       "      <td>C</td>\n",
       "      <td>0.04240</td>\n",
       "      <td>1</td>\n",
       "      <td>2245570</td>\n",
       "      <td>1/1</td>\n",
       "      <td>1</td>\n",
       "      <td>2245570</td>\n",
       "      <td>rs2843152</td>\n",
       "      <td>C</td>\n",
       "      <td>G</td>\n",
       "      <td>0</td>\n",
       "    </tr>\n",
       "    <tr>\n",
       "      <th>1</th>\n",
       "      <td>rs35465346</td>\n",
       "      <td>1:22132518</td>\n",
       "      <td>G</td>\n",
       "      <td>0.05465</td>\n",
       "      <td>1</td>\n",
       "      <td>22132518</td>\n",
       "      <td>0/0</td>\n",
       "      <td>1</td>\n",
       "      <td>22132518</td>\n",
       "      <td>rs35465346</td>\n",
       "      <td>G</td>\n",
       "      <td>A</td>\n",
       "      <td>2</td>\n",
       "    </tr>\n",
       "    <tr>\n",
       "      <th>2</th>\n",
       "      <td>rs7538207</td>\n",
       "      <td>1:22310674</td>\n",
       "      <td>C</td>\n",
       "      <td>0.09848</td>\n",
       "      <td>1</td>\n",
       "      <td>22310674</td>\n",
       "      <td>1/1</td>\n",
       "      <td>1</td>\n",
       "      <td>22310674</td>\n",
       "      <td>rs7538207</td>\n",
       "      <td>C</td>\n",
       "      <td>T</td>\n",
       "      <td>0</td>\n",
       "    </tr>\n",
       "    <tr>\n",
       "      <th>3</th>\n",
       "      <td>rs11811081</td>\n",
       "      <td>1:32026584</td>\n",
       "      <td>C</td>\n",
       "      <td>0.07660</td>\n",
       "      <td>1</td>\n",
       "      <td>32026584</td>\n",
       "      <td>0/0</td>\n",
       "      <td>1</td>\n",
       "      <td>32026584</td>\n",
       "      <td>rs11811081</td>\n",
       "      <td>C</td>\n",
       "      <td>A</td>\n",
       "      <td>2</td>\n",
       "    </tr>\n",
       "    <tr>\n",
       "      <th>4</th>\n",
       "      <td>rs12733730</td>\n",
       "      <td>1:37023446</td>\n",
       "      <td>A</td>\n",
       "      <td>0.04601</td>\n",
       "      <td>1</td>\n",
       "      <td>37023446</td>\n",
       "      <td>0/0</td>\n",
       "      <td>1</td>\n",
       "      <td>37023446</td>\n",
       "      <td>rs12733730</td>\n",
       "      <td>G</td>\n",
       "      <td>A</td>\n",
       "      <td>0</td>\n",
       "    </tr>\n",
       "    <tr>\n",
       "      <th>...</th>\n",
       "      <td>...</td>\n",
       "      <td>...</td>\n",
       "      <td>...</td>\n",
       "      <td>...</td>\n",
       "      <td>...</td>\n",
       "      <td>...</td>\n",
       "      <td>...</td>\n",
       "      <td>...</td>\n",
       "      <td>...</td>\n",
       "      <td>...</td>\n",
       "      <td>...</td>\n",
       "      <td>...</td>\n",
       "      <td>...</td>\n",
       "    </tr>\n",
       "    <tr>\n",
       "      <th>262</th>\n",
       "      <td>rs2836621</td>\n",
       "      <td>21:40054149</td>\n",
       "      <td>T</td>\n",
       "      <td>0.03312</td>\n",
       "      <td>21</td>\n",
       "      <td>40054149</td>\n",
       "      <td>0/0</td>\n",
       "      <td>21</td>\n",
       "      <td>40054149</td>\n",
       "      <td>rs2836621</td>\n",
       "      <td>C</td>\n",
       "      <td>T</td>\n",
       "      <td>0</td>\n",
       "    </tr>\n",
       "    <tr>\n",
       "      <th>263</th>\n",
       "      <td>rs9604969</td>\n",
       "      <td>22:19514013</td>\n",
       "      <td>A</td>\n",
       "      <td>0.06006</td>\n",
       "      <td>22</td>\n",
       "      <td>19514013</td>\n",
       "      <td>0/0</td>\n",
       "      <td>22</td>\n",
       "      <td>19514013</td>\n",
       "      <td>rs9604969</td>\n",
       "      <td>A</td>\n",
       "      <td>G</td>\n",
       "      <td>2</td>\n",
       "    </tr>\n",
       "    <tr>\n",
       "      <th>264</th>\n",
       "      <td>rs71313931</td>\n",
       "      <td>22:19960184</td>\n",
       "      <td>G</td>\n",
       "      <td>0.03938</td>\n",
       "      <td>22</td>\n",
       "      <td>19960184</td>\n",
       "      <td>0/1</td>\n",
       "      <td>22</td>\n",
       "      <td>19960184</td>\n",
       "      <td>rs71313931</td>\n",
       "      <td>C</td>\n",
       "      <td>G</td>\n",
       "      <td>1</td>\n",
       "    </tr>\n",
       "    <tr>\n",
       "      <th>265</th>\n",
       "      <td>rs12485143</td>\n",
       "      <td>22:24575333</td>\n",
       "      <td>C</td>\n",
       "      <td>0.06735</td>\n",
       "      <td>22</td>\n",
       "      <td>24575333</td>\n",
       "      <td>0/0</td>\n",
       "      <td>22</td>\n",
       "      <td>24575333</td>\n",
       "      <td>rs12485143</td>\n",
       "      <td>C</td>\n",
       "      <td>T</td>\n",
       "      <td>2</td>\n",
       "    </tr>\n",
       "    <tr>\n",
       "      <th>266</th>\n",
       "      <td>rs468224</td>\n",
       "      <td>22:29955252</td>\n",
       "      <td>A</td>\n",
       "      <td>0.04269</td>\n",
       "      <td>22</td>\n",
       "      <td>29955252</td>\n",
       "      <td>0/1</td>\n",
       "      <td>22</td>\n",
       "      <td>29955252</td>\n",
       "      <td>rs468224</td>\n",
       "      <td>A</td>\n",
       "      <td>G</td>\n",
       "      <td>1</td>\n",
       "    </tr>\n",
       "  </tbody>\n",
       "</table>\n",
       "<p>267 rows × 13 columns</p>\n",
       "</div>"
      ],
      "text/plain": [
       "           rsID     Position EffectAllele   Weight Chromosome PositionNum  \\\n",
       "0     rs2843152    1:2245570            C  0.04240          1     2245570   \n",
       "1    rs35465346   1:22132518            G  0.05465          1    22132518   \n",
       "2     rs7538207   1:22310674            C  0.09848          1    22310674   \n",
       "3    rs11811081   1:32026584            C  0.07660          1    32026584   \n",
       "4    rs12733730   1:37023446            A  0.04601          1    37023446   \n",
       "..          ...          ...          ...      ...        ...         ...   \n",
       "262   rs2836621  21:40054149            T  0.03312         21    40054149   \n",
       "263   rs9604969  22:19514013            A  0.06006         22    19514013   \n",
       "264  rs71313931  22:19960184            G  0.03938         22    19960184   \n",
       "265  rs12485143  22:24575333            C  0.06735         22    24575333   \n",
       "266    rs468224  22:29955252            A  0.04269         22    29955252   \n",
       "\n",
       "    Genotype VCFChrom    VCFPos       VCFid VCFRef VCFAlt  Score  \n",
       "0        1/1        1   2245570   rs2843152      C      G      0  \n",
       "1        0/0        1  22132518  rs35465346      G      A      2  \n",
       "2        1/1        1  22310674   rs7538207      C      T      0  \n",
       "3        0/0        1  32026584  rs11811081      C      A      2  \n",
       "4        0/0        1  37023446  rs12733730      G      A      0  \n",
       "..       ...      ...       ...         ...    ...    ...    ...  \n",
       "262      0/0       21  40054149   rs2836621      C      T      0  \n",
       "263      0/0       22  19514013   rs9604969      A      G      2  \n",
       "264      0/1       22  19960184  rs71313931      C      G      1  \n",
       "265      0/0       22  24575333  rs12485143      C      T      2  \n",
       "266      0/1       22  29955252    rs468224      A      G      1  \n",
       "\n",
       "[267 rows x 13 columns]"
      ]
     },
     "execution_count": 26,
     "metadata": {},
     "output_type": "execute_result"
    }
   ],
   "source": [
    "\n",
    "new_df[\"Score\"] = pd.Series(score)\n",
    "new_df"
   ]
  },
  {
   "cell_type": "code",
   "execution_count": 27,
   "metadata": {},
   "outputs": [
    {
     "name": "stdout",
     "output_type": "stream",
     "text": [
      "CPU times: user 1.79 ms, sys: 3.02 ms, total: 4.82 ms\n",
      "Wall time: 9.72 ms\n"
     ]
    }
   ],
   "source": [
    "\n",
    "new_df = new_df[new_df['rsID'] == new_df['VCFid']].copy()"
   ]
  },
  {
   "cell_type": "code",
   "execution_count": 28,
   "metadata": {},
   "outputs": [
    {
     "data": {
      "text/html": [
       "<div>\n",
       "<style scoped>\n",
       "    .dataframe tbody tr th:only-of-type {\n",
       "        vertical-align: middle;\n",
       "    }\n",
       "\n",
       "    .dataframe tbody tr th {\n",
       "        vertical-align: top;\n",
       "    }\n",
       "\n",
       "    .dataframe thead th {\n",
       "        text-align: right;\n",
       "    }\n",
       "</style>\n",
       "<table border=\"1\" class=\"dataframe\">\n",
       "  <thead>\n",
       "    <tr style=\"text-align: right;\">\n",
       "      <th></th>\n",
       "      <th>rsID</th>\n",
       "      <th>Position</th>\n",
       "      <th>EffectAllele</th>\n",
       "      <th>Weight</th>\n",
       "      <th>Chromosome</th>\n",
       "      <th>PositionNum</th>\n",
       "      <th>Genotype</th>\n",
       "      <th>VCFChrom</th>\n",
       "      <th>VCFPos</th>\n",
       "      <th>VCFid</th>\n",
       "      <th>VCFRef</th>\n",
       "      <th>VCFAlt</th>\n",
       "      <th>Score</th>\n",
       "    </tr>\n",
       "  </thead>\n",
       "  <tbody>\n",
       "    <tr>\n",
       "      <th>0</th>\n",
       "      <td>rs2843152</td>\n",
       "      <td>1:2245570</td>\n",
       "      <td>C</td>\n",
       "      <td>0.04240</td>\n",
       "      <td>1</td>\n",
       "      <td>2245570</td>\n",
       "      <td>1/1</td>\n",
       "      <td>1</td>\n",
       "      <td>2245570</td>\n",
       "      <td>rs2843152</td>\n",
       "      <td>C</td>\n",
       "      <td>G</td>\n",
       "      <td>0</td>\n",
       "    </tr>\n",
       "    <tr>\n",
       "      <th>1</th>\n",
       "      <td>rs35465346</td>\n",
       "      <td>1:22132518</td>\n",
       "      <td>G</td>\n",
       "      <td>0.05465</td>\n",
       "      <td>1</td>\n",
       "      <td>22132518</td>\n",
       "      <td>0/0</td>\n",
       "      <td>1</td>\n",
       "      <td>22132518</td>\n",
       "      <td>rs35465346</td>\n",
       "      <td>G</td>\n",
       "      <td>A</td>\n",
       "      <td>2</td>\n",
       "    </tr>\n",
       "    <tr>\n",
       "      <th>2</th>\n",
       "      <td>rs7538207</td>\n",
       "      <td>1:22310674</td>\n",
       "      <td>C</td>\n",
       "      <td>0.09848</td>\n",
       "      <td>1</td>\n",
       "      <td>22310674</td>\n",
       "      <td>1/1</td>\n",
       "      <td>1</td>\n",
       "      <td>22310674</td>\n",
       "      <td>rs7538207</td>\n",
       "      <td>C</td>\n",
       "      <td>T</td>\n",
       "      <td>0</td>\n",
       "    </tr>\n",
       "    <tr>\n",
       "      <th>3</th>\n",
       "      <td>rs11811081</td>\n",
       "      <td>1:32026584</td>\n",
       "      <td>C</td>\n",
       "      <td>0.07660</td>\n",
       "      <td>1</td>\n",
       "      <td>32026584</td>\n",
       "      <td>0/0</td>\n",
       "      <td>1</td>\n",
       "      <td>32026584</td>\n",
       "      <td>rs11811081</td>\n",
       "      <td>C</td>\n",
       "      <td>A</td>\n",
       "      <td>2</td>\n",
       "    </tr>\n",
       "    <tr>\n",
       "      <th>4</th>\n",
       "      <td>rs12733730</td>\n",
       "      <td>1:37023446</td>\n",
       "      <td>A</td>\n",
       "      <td>0.04601</td>\n",
       "      <td>1</td>\n",
       "      <td>37023446</td>\n",
       "      <td>0/0</td>\n",
       "      <td>1</td>\n",
       "      <td>37023446</td>\n",
       "      <td>rs12733730</td>\n",
       "      <td>G</td>\n",
       "      <td>A</td>\n",
       "      <td>0</td>\n",
       "    </tr>\n",
       "    <tr>\n",
       "      <th>...</th>\n",
       "      <td>...</td>\n",
       "      <td>...</td>\n",
       "      <td>...</td>\n",
       "      <td>...</td>\n",
       "      <td>...</td>\n",
       "      <td>...</td>\n",
       "      <td>...</td>\n",
       "      <td>...</td>\n",
       "      <td>...</td>\n",
       "      <td>...</td>\n",
       "      <td>...</td>\n",
       "      <td>...</td>\n",
       "      <td>...</td>\n",
       "    </tr>\n",
       "    <tr>\n",
       "      <th>262</th>\n",
       "      <td>rs2836621</td>\n",
       "      <td>21:40054149</td>\n",
       "      <td>T</td>\n",
       "      <td>0.03312</td>\n",
       "      <td>21</td>\n",
       "      <td>40054149</td>\n",
       "      <td>0/0</td>\n",
       "      <td>21</td>\n",
       "      <td>40054149</td>\n",
       "      <td>rs2836621</td>\n",
       "      <td>C</td>\n",
       "      <td>T</td>\n",
       "      <td>0</td>\n",
       "    </tr>\n",
       "    <tr>\n",
       "      <th>263</th>\n",
       "      <td>rs9604969</td>\n",
       "      <td>22:19514013</td>\n",
       "      <td>A</td>\n",
       "      <td>0.06006</td>\n",
       "      <td>22</td>\n",
       "      <td>19514013</td>\n",
       "      <td>0/0</td>\n",
       "      <td>22</td>\n",
       "      <td>19514013</td>\n",
       "      <td>rs9604969</td>\n",
       "      <td>A</td>\n",
       "      <td>G</td>\n",
       "      <td>2</td>\n",
       "    </tr>\n",
       "    <tr>\n",
       "      <th>264</th>\n",
       "      <td>rs71313931</td>\n",
       "      <td>22:19960184</td>\n",
       "      <td>G</td>\n",
       "      <td>0.03938</td>\n",
       "      <td>22</td>\n",
       "      <td>19960184</td>\n",
       "      <td>0/1</td>\n",
       "      <td>22</td>\n",
       "      <td>19960184</td>\n",
       "      <td>rs71313931</td>\n",
       "      <td>C</td>\n",
       "      <td>G</td>\n",
       "      <td>1</td>\n",
       "    </tr>\n",
       "    <tr>\n",
       "      <th>265</th>\n",
       "      <td>rs12485143</td>\n",
       "      <td>22:24575333</td>\n",
       "      <td>C</td>\n",
       "      <td>0.06735</td>\n",
       "      <td>22</td>\n",
       "      <td>24575333</td>\n",
       "      <td>0/0</td>\n",
       "      <td>22</td>\n",
       "      <td>24575333</td>\n",
       "      <td>rs12485143</td>\n",
       "      <td>C</td>\n",
       "      <td>T</td>\n",
       "      <td>2</td>\n",
       "    </tr>\n",
       "    <tr>\n",
       "      <th>266</th>\n",
       "      <td>rs468224</td>\n",
       "      <td>22:29955252</td>\n",
       "      <td>A</td>\n",
       "      <td>0.04269</td>\n",
       "      <td>22</td>\n",
       "      <td>29955252</td>\n",
       "      <td>0/1</td>\n",
       "      <td>22</td>\n",
       "      <td>29955252</td>\n",
       "      <td>rs468224</td>\n",
       "      <td>A</td>\n",
       "      <td>G</td>\n",
       "      <td>1</td>\n",
       "    </tr>\n",
       "  </tbody>\n",
       "</table>\n",
       "<p>267 rows × 13 columns</p>\n",
       "</div>"
      ],
      "text/plain": [
       "           rsID     Position EffectAllele   Weight Chromosome PositionNum  \\\n",
       "0     rs2843152    1:2245570            C  0.04240          1     2245570   \n",
       "1    rs35465346   1:22132518            G  0.05465          1    22132518   \n",
       "2     rs7538207   1:22310674            C  0.09848          1    22310674   \n",
       "3    rs11811081   1:32026584            C  0.07660          1    32026584   \n",
       "4    rs12733730   1:37023446            A  0.04601          1    37023446   \n",
       "..          ...          ...          ...      ...        ...         ...   \n",
       "262   rs2836621  21:40054149            T  0.03312         21    40054149   \n",
       "263   rs9604969  22:19514013            A  0.06006         22    19514013   \n",
       "264  rs71313931  22:19960184            G  0.03938         22    19960184   \n",
       "265  rs12485143  22:24575333            C  0.06735         22    24575333   \n",
       "266    rs468224  22:29955252            A  0.04269         22    29955252   \n",
       "\n",
       "    Genotype VCFChrom    VCFPos       VCFid VCFRef VCFAlt  Score  \n",
       "0        1/1        1   2245570   rs2843152      C      G      0  \n",
       "1        0/0        1  22132518  rs35465346      G      A      2  \n",
       "2        1/1        1  22310674   rs7538207      C      T      0  \n",
       "3        0/0        1  32026584  rs11811081      C      A      2  \n",
       "4        0/0        1  37023446  rs12733730      G      A      0  \n",
       "..       ...      ...       ...         ...    ...    ...    ...  \n",
       "262      0/0       21  40054149   rs2836621      C      T      0  \n",
       "263      0/0       22  19514013   rs9604969      A      G      2  \n",
       "264      0/1       22  19960184  rs71313931      C      G      1  \n",
       "265      0/0       22  24575333  rs12485143      C      T      2  \n",
       "266      0/1       22  29955252    rs468224      A      G      1  \n",
       "\n",
       "[267 rows x 13 columns]"
      ]
     },
     "execution_count": 28,
     "metadata": {},
     "output_type": "execute_result"
    }
   ],
   "source": [
    "new_df"
   ]
  },
  {
   "cell_type": "code",
   "execution_count": 29,
   "metadata": {},
   "outputs": [
    {
     "name": "stdout",
     "output_type": "stream",
     "text": [
      "CPU times: user 930 µs, sys: 920 µs, total: 1.85 ms\n",
      "Wall time: 2.95 ms\n"
     ]
    }
   ],
   "source": [
    "\n",
    "new_df[\"Score*Weight\"] = new_df[\"Score\"] * new_df[\"Weight\"]"
   ]
  },
  {
   "cell_type": "code",
   "execution_count": 30,
   "metadata": {},
   "outputs": [
    {
     "data": {
      "text/html": [
       "<div>\n",
       "<style scoped>\n",
       "    .dataframe tbody tr th:only-of-type {\n",
       "        vertical-align: middle;\n",
       "    }\n",
       "\n",
       "    .dataframe tbody tr th {\n",
       "        vertical-align: top;\n",
       "    }\n",
       "\n",
       "    .dataframe thead th {\n",
       "        text-align: right;\n",
       "    }\n",
       "</style>\n",
       "<table border=\"1\" class=\"dataframe\">\n",
       "  <thead>\n",
       "    <tr style=\"text-align: right;\">\n",
       "      <th></th>\n",
       "      <th>rsID</th>\n",
       "      <th>Position</th>\n",
       "      <th>EffectAllele</th>\n",
       "      <th>Weight</th>\n",
       "      <th>Chromosome</th>\n",
       "      <th>PositionNum</th>\n",
       "      <th>Genotype</th>\n",
       "      <th>VCFChrom</th>\n",
       "      <th>VCFPos</th>\n",
       "      <th>VCFid</th>\n",
       "      <th>VCFRef</th>\n",
       "      <th>VCFAlt</th>\n",
       "      <th>Score</th>\n",
       "      <th>Score*Weight</th>\n",
       "    </tr>\n",
       "  </thead>\n",
       "  <tbody>\n",
       "    <tr>\n",
       "      <th>0</th>\n",
       "      <td>rs2843152</td>\n",
       "      <td>1:2245570</td>\n",
       "      <td>C</td>\n",
       "      <td>0.04240</td>\n",
       "      <td>1</td>\n",
       "      <td>2245570</td>\n",
       "      <td>1/1</td>\n",
       "      <td>1</td>\n",
       "      <td>2245570</td>\n",
       "      <td>rs2843152</td>\n",
       "      <td>C</td>\n",
       "      <td>G</td>\n",
       "      <td>0</td>\n",
       "      <td>0.00000</td>\n",
       "    </tr>\n",
       "    <tr>\n",
       "      <th>1</th>\n",
       "      <td>rs35465346</td>\n",
       "      <td>1:22132518</td>\n",
       "      <td>G</td>\n",
       "      <td>0.05465</td>\n",
       "      <td>1</td>\n",
       "      <td>22132518</td>\n",
       "      <td>0/0</td>\n",
       "      <td>1</td>\n",
       "      <td>22132518</td>\n",
       "      <td>rs35465346</td>\n",
       "      <td>G</td>\n",
       "      <td>A</td>\n",
       "      <td>2</td>\n",
       "      <td>0.10930</td>\n",
       "    </tr>\n",
       "    <tr>\n",
       "      <th>2</th>\n",
       "      <td>rs7538207</td>\n",
       "      <td>1:22310674</td>\n",
       "      <td>C</td>\n",
       "      <td>0.09848</td>\n",
       "      <td>1</td>\n",
       "      <td>22310674</td>\n",
       "      <td>1/1</td>\n",
       "      <td>1</td>\n",
       "      <td>22310674</td>\n",
       "      <td>rs7538207</td>\n",
       "      <td>C</td>\n",
       "      <td>T</td>\n",
       "      <td>0</td>\n",
       "      <td>0.00000</td>\n",
       "    </tr>\n",
       "    <tr>\n",
       "      <th>3</th>\n",
       "      <td>rs11811081</td>\n",
       "      <td>1:32026584</td>\n",
       "      <td>C</td>\n",
       "      <td>0.07660</td>\n",
       "      <td>1</td>\n",
       "      <td>32026584</td>\n",
       "      <td>0/0</td>\n",
       "      <td>1</td>\n",
       "      <td>32026584</td>\n",
       "      <td>rs11811081</td>\n",
       "      <td>C</td>\n",
       "      <td>A</td>\n",
       "      <td>2</td>\n",
       "      <td>0.15320</td>\n",
       "    </tr>\n",
       "    <tr>\n",
       "      <th>4</th>\n",
       "      <td>rs12733730</td>\n",
       "      <td>1:37023446</td>\n",
       "      <td>A</td>\n",
       "      <td>0.04601</td>\n",
       "      <td>1</td>\n",
       "      <td>37023446</td>\n",
       "      <td>0/0</td>\n",
       "      <td>1</td>\n",
       "      <td>37023446</td>\n",
       "      <td>rs12733730</td>\n",
       "      <td>G</td>\n",
       "      <td>A</td>\n",
       "      <td>0</td>\n",
       "      <td>0.00000</td>\n",
       "    </tr>\n",
       "    <tr>\n",
       "      <th>...</th>\n",
       "      <td>...</td>\n",
       "      <td>...</td>\n",
       "      <td>...</td>\n",
       "      <td>...</td>\n",
       "      <td>...</td>\n",
       "      <td>...</td>\n",
       "      <td>...</td>\n",
       "      <td>...</td>\n",
       "      <td>...</td>\n",
       "      <td>...</td>\n",
       "      <td>...</td>\n",
       "      <td>...</td>\n",
       "      <td>...</td>\n",
       "      <td>...</td>\n",
       "    </tr>\n",
       "    <tr>\n",
       "      <th>262</th>\n",
       "      <td>rs2836621</td>\n",
       "      <td>21:40054149</td>\n",
       "      <td>T</td>\n",
       "      <td>0.03312</td>\n",
       "      <td>21</td>\n",
       "      <td>40054149</td>\n",
       "      <td>0/0</td>\n",
       "      <td>21</td>\n",
       "      <td>40054149</td>\n",
       "      <td>rs2836621</td>\n",
       "      <td>C</td>\n",
       "      <td>T</td>\n",
       "      <td>0</td>\n",
       "      <td>0.00000</td>\n",
       "    </tr>\n",
       "    <tr>\n",
       "      <th>263</th>\n",
       "      <td>rs9604969</td>\n",
       "      <td>22:19514013</td>\n",
       "      <td>A</td>\n",
       "      <td>0.06006</td>\n",
       "      <td>22</td>\n",
       "      <td>19514013</td>\n",
       "      <td>0/0</td>\n",
       "      <td>22</td>\n",
       "      <td>19514013</td>\n",
       "      <td>rs9604969</td>\n",
       "      <td>A</td>\n",
       "      <td>G</td>\n",
       "      <td>2</td>\n",
       "      <td>0.12012</td>\n",
       "    </tr>\n",
       "    <tr>\n",
       "      <th>264</th>\n",
       "      <td>rs71313931</td>\n",
       "      <td>22:19960184</td>\n",
       "      <td>G</td>\n",
       "      <td>0.03938</td>\n",
       "      <td>22</td>\n",
       "      <td>19960184</td>\n",
       "      <td>0/1</td>\n",
       "      <td>22</td>\n",
       "      <td>19960184</td>\n",
       "      <td>rs71313931</td>\n",
       "      <td>C</td>\n",
       "      <td>G</td>\n",
       "      <td>1</td>\n",
       "      <td>0.03938</td>\n",
       "    </tr>\n",
       "    <tr>\n",
       "      <th>265</th>\n",
       "      <td>rs12485143</td>\n",
       "      <td>22:24575333</td>\n",
       "      <td>C</td>\n",
       "      <td>0.06735</td>\n",
       "      <td>22</td>\n",
       "      <td>24575333</td>\n",
       "      <td>0/0</td>\n",
       "      <td>22</td>\n",
       "      <td>24575333</td>\n",
       "      <td>rs12485143</td>\n",
       "      <td>C</td>\n",
       "      <td>T</td>\n",
       "      <td>2</td>\n",
       "      <td>0.13470</td>\n",
       "    </tr>\n",
       "    <tr>\n",
       "      <th>266</th>\n",
       "      <td>rs468224</td>\n",
       "      <td>22:29955252</td>\n",
       "      <td>A</td>\n",
       "      <td>0.04269</td>\n",
       "      <td>22</td>\n",
       "      <td>29955252</td>\n",
       "      <td>0/1</td>\n",
       "      <td>22</td>\n",
       "      <td>29955252</td>\n",
       "      <td>rs468224</td>\n",
       "      <td>A</td>\n",
       "      <td>G</td>\n",
       "      <td>1</td>\n",
       "      <td>0.04269</td>\n",
       "    </tr>\n",
       "  </tbody>\n",
       "</table>\n",
       "<p>267 rows × 14 columns</p>\n",
       "</div>"
      ],
      "text/plain": [
       "           rsID     Position EffectAllele   Weight Chromosome PositionNum  \\\n",
       "0     rs2843152    1:2245570            C  0.04240          1     2245570   \n",
       "1    rs35465346   1:22132518            G  0.05465          1    22132518   \n",
       "2     rs7538207   1:22310674            C  0.09848          1    22310674   \n",
       "3    rs11811081   1:32026584            C  0.07660          1    32026584   \n",
       "4    rs12733730   1:37023446            A  0.04601          1    37023446   \n",
       "..          ...          ...          ...      ...        ...         ...   \n",
       "262   rs2836621  21:40054149            T  0.03312         21    40054149   \n",
       "263   rs9604969  22:19514013            A  0.06006         22    19514013   \n",
       "264  rs71313931  22:19960184            G  0.03938         22    19960184   \n",
       "265  rs12485143  22:24575333            C  0.06735         22    24575333   \n",
       "266    rs468224  22:29955252            A  0.04269         22    29955252   \n",
       "\n",
       "    Genotype VCFChrom    VCFPos       VCFid VCFRef VCFAlt  Score  Score*Weight  \n",
       "0        1/1        1   2245570   rs2843152      C      G      0       0.00000  \n",
       "1        0/0        1  22132518  rs35465346      G      A      2       0.10930  \n",
       "2        1/1        1  22310674   rs7538207      C      T      0       0.00000  \n",
       "3        0/0        1  32026584  rs11811081      C      A      2       0.15320  \n",
       "4        0/0        1  37023446  rs12733730      G      A      0       0.00000  \n",
       "..       ...      ...       ...         ...    ...    ...    ...           ...  \n",
       "262      0/0       21  40054149   rs2836621      C      T      0       0.00000  \n",
       "263      0/0       22  19514013   rs9604969      A      G      2       0.12012  \n",
       "264      0/1       22  19960184  rs71313931      C      G      1       0.03938  \n",
       "265      0/0       22  24575333  rs12485143      C      T      2       0.13470  \n",
       "266      0/1       22  29955252    rs468224      A      G      1       0.04269  \n",
       "\n",
       "[267 rows x 14 columns]"
      ]
     },
     "execution_count": 30,
     "metadata": {},
     "output_type": "execute_result"
    }
   ],
   "source": [
    "new_df"
   ]
  },
  {
   "cell_type": "code",
   "execution_count": 31,
   "metadata": {},
   "outputs": [
    {
     "name": "stdout",
     "output_type": "stream",
     "text": [
      "CPU times: user 883 µs, sys: 2.71 ms, total: 3.59 ms\n",
      "Wall time: 7.69 ms\n"
     ]
    },
    {
     "data": {
      "text/plain": [
       "'The total unweighted observed score is 230. The total unweighted maximum expected score is 534. With the ratio of observed over maximum, the unweighted ratio score is 0.4307116104868914. The total weighted observed score is 15.0.The total weighted maximum expected score is 22.0. With the ratio of observed over maximum, the weighted ratio score is 0.6894643862475976.'"
      ]
     },
     "execution_count": 31,
     "metadata": {},
     "output_type": "execute_result"
    }
   ],
   "source": [
    "\n",
    "def final_analysis():\n",
    "    Observed_Score_Sum = new_df[\"Score\"].sum()\n",
    "    Maximum_Expected_Score_Sum = len(new_df)*2\n",
    "    Observed_Weighted_Sum = new_df[\"Score*Weight\"].sum()\n",
    "    Maximum_Expected_Weight = new_df[\"Weight\"].sum()\n",
    "    Final_weighted_GRS = Observed_Weighted_Sum/Maximum_Expected_Weight\n",
    "    Final_unweighted_GRS = Observed_Score_Sum/Maximum_Expected_Score_Sum\n",
    "    Final_statements = \"The total unweighted observed score is \" + str(Observed_Score_Sum) + \". \" + \"The total unweighted maximum expected score is \" + str(Maximum_Expected_Score_Sum) + \". \" + \"With the ratio of observed over maximum, the unweighted ratio score is \" + str(Final_unweighted_GRS) + \". \" + \"The total weighted observed score is \" + str(round(Observed_Weighted_Sum)) + \".\" +  \"The total weighted maximum expected score is \" + str(round(Maximum_Expected_Weight)) + \". \" + \"With the ratio of observed over maximum, the weighted ratio score is \" + str(Final_weighted_GRS) + \".\"  \n",
    "    return Final_statements\n",
    "\n",
    "final_analysis()"
   ]
  },
  {
   "cell_type": "code",
   "execution_count": null,
   "metadata": {},
   "outputs": [],
   "source": []
  }
 ],
 "metadata": {
  "kernelspec": {
   "display_name": "Python 3",
   "language": "python",
   "name": "python3"
  },
  "language_info": {
   "codemirror_mode": {
    "name": "ipython",
    "version": 3
   },
   "file_extension": ".py",
   "mimetype": "text/x-python",
   "name": "python",
   "nbconvert_exporter": "python",
   "pygments_lexer": "ipython3",
   "version": "3.7.6"
  }
 },
 "nbformat": 4,
 "nbformat_minor": 4
}
